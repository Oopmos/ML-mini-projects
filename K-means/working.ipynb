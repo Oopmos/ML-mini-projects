{
 "cells": [
  {
   "cell_type": "markdown",
   "id": "1b45aefd-eda9-4e43-a618-9cc0bb11a9f9",
   "metadata": {
    "jp-MarkdownHeadingCollapsed": true,
    "tags": []
   },
   "source": [
    "## Import modules"
   ]
  },
  {
   "cell_type": "code",
   "execution_count": 2,
   "id": "f255262b-0c6f-4e44-a2cb-52974f55510a",
   "metadata": {},
   "outputs": [],
   "source": [
    "import numpy as np\n",
    "import sklearn\n",
    "from sklearn.preprocessing import scale\n",
    "from sklearn.datasets import load_digits\n",
    "from sklearn.cluster import KMeans\n",
    "from sklearn import metrics"
   ]
  },
  {
   "cell_type": "markdown",
   "id": "a2f0b02a-1ada-43ae-979c-acf0a2b714a9",
   "metadata": {
    "jp-MarkdownHeadingCollapsed": true,
    "tags": []
   },
   "source": [
    "## Loading data-set\n",
    "โหลดข้อมูลจาก sklearn แต่ข้อมูลนั้นใหญ่เกินไป เราเลยแปลงข้อมูลที่มีค่าเยอะมาก ๆ ให้เหลือเฉพาะค่า -1 ถึง 1 เพื่อง่ายต่อการฝึกโมเดล และความแม่นยำ"
   ]
  },
  {
   "cell_type": "code",
   "execution_count": 3,
   "id": "b7a98fe3-0cd8-4215-9598-6a65f0a742b2",
   "metadata": {},
   "outputs": [],
   "source": [
    "digits = load_digits()\n",
    "data = scale(digits.data) # scale data down\n",
    "y = digits.target\n",
    "\n",
    "k = 10 # number of cluster\n",
    "samples, feartures = data.shape"
   ]
  },
  {
   "cell_type": "markdown",
   "id": "5bc3654b-5997-4e05-8ed6-2b4b9b0aa939",
   "metadata": {
    "jp-MarkdownHeadingCollapsed": true,
    "tags": []
   },
   "source": [
    "## Scoring\n",
    "วัดผลโมเดลของเราด้วยฟังก์ชันจาก sklearn สามารถหาอ่านข้อมูลเพิ่มได้ที่ [SkLearn Performance Evaluation](https://scikit-learn.org/stable/modules/clustering.html#clustering-evaluation)\n",
    "\n",
    "ทุก score ยิ่งใกล้ 1 ยิ่งดี ยกเว้น silhouette coefficient ที่จะมีค่า -1 ถึง 1 หากมีค่าใกล้ 0 มาก ๆ แสดงว่า cluster ที่โมเดลสร้างไปทับกับ cluster อื่น ๆ "
   ]
  },
  {
   "cell_type": "code",
   "execution_count": 4,
   "id": "1e760d5c-436b-43a3-9443-6bdbe2f50ac1",
   "metadata": {},
   "outputs": [],
   "source": [
    "def bench_k_means(estimator, name, data):\n",
    "    estimator.fit(data)\n",
    "    print('%-9s\\t%i\\t%.3f\\t%.3f\\t%.3f\\t%.3f\\t%.3f\\t%.3f'\n",
    "          % (name, estimator.inertia_,\n",
    "             metrics.homogeneity_score(y, estimator.labels_),\n",
    "             metrics.completeness_score(y, estimator.labels_),\n",
    "             metrics.v_measure_score(y, estimator.labels_),\n",
    "             metrics.adjusted_rand_score(y, estimator.labels_),\n",
    "             metrics.adjusted_mutual_info_score(y,  estimator.labels_),\n",
    "             metrics.silhouette_score(data, estimator.labels_,\n",
    "                                      metric='euclidean')))"
   ]
  },
  {
   "cell_type": "markdown",
   "id": "5c6ceeb4-837f-47fd-8faf-ddb3e11e0c6a",
   "metadata": {
    "jp-MarkdownHeadingCollapsed": true,
    "tags": []
   },
   "source": [
    "## Train model"
   ]
  },
  {
   "cell_type": "code",
   "execution_count": 6,
   "id": "60fbe12e-65dc-4539-8535-11a9f5d91e23",
   "metadata": {},
   "outputs": [
    {
     "name": "stdout",
     "output_type": "stream",
     "text": [
      "1        \t69470\t0.610\t0.657\t0.633\t0.479\t0.629\t0.142\n"
     ]
    }
   ],
   "source": [
    "clf = KMeans(n_clusters=k, init='random', n_init=10)\n",
    "bench_k_means(clf, '1', data)"
   ]
  },
  {
   "cell_type": "markdown",
   "id": "651b0180-26b2-48b1-a778-63c69066ed68",
   "metadata": {},
   "source": [
    "# More info\n",
    "[SkLearn documentation](https://scikit-learn.org/stable/auto_examples/cluster/plot_kmeans_digits.html)"
   ]
  }
 ],
 "metadata": {
  "kernelspec": {
   "display_name": "Python 3 (ipykernel)",
   "language": "python",
   "name": "python3"
  },
  "language_info": {
   "codemirror_mode": {
    "name": "ipython",
    "version": 3
   },
   "file_extension": ".py",
   "mimetype": "text/x-python",
   "name": "python",
   "nbconvert_exporter": "python",
   "pygments_lexer": "ipython3",
   "version": "3.9.13"
  }
 },
 "nbformat": 4,
 "nbformat_minor": 5
}
