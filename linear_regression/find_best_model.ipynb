{
 "cells": [
  {
   "cell_type": "markdown",
   "id": "410e05bf-8b07-4693-9be9-e0ea31be5388",
   "metadata": {},
   "source": [
    "โค้ดเหมือน working เลยเพียงแต่เพิ่ม loop ไว้หาโมเดลที่ acc มากสุด"
   ]
  },
  {
   "cell_type": "code",
   "execution_count": 21,
   "id": "0ba6247e-8848-48eb-90c4-d2628d8cf2b6",
   "metadata": {},
   "outputs": [],
   "source": [
    "# Import moduels\n",
    "import pandas as pd\n",
    "import numpy as np\n",
    "import matplotlib.pyplot as pyplot\n",
    "from matplotlib import style\n",
    "import pickle\n",
    "import sklearn\n",
    "from sklearn import linear_model\n",
    "from sklearn.utils import shuffle"
   ]
  },
  {
   "cell_type": "code",
   "execution_count": 3,
   "id": "2969b2aa-c996-4e59-b4e7-b8b69b7dfb35",
   "metadata": {
    "tags": []
   },
   "outputs": [],
   "source": [
    "# Rad data from CSV\n",
    "data = pd.read_csv(\"C:/Users/USER/Documents/JupyterLab/ML_basic_algorithms/linear_regression/dataset/student-mat.csv\", sep=\";\")\n",
    "\n",
    "# Trim data\n",
    "data = data[[\"G1\", \"G2\", \"G3\", \"studytime\", \"failures\", \"absences\"]]"
   ]
  },
  {
   "cell_type": "code",
   "execution_count": 4,
   "id": "ab7a5515-c6c6-4237-a1d8-11ada72e09ac",
   "metadata": {},
   "outputs": [],
   "source": [
    "# Seperate data\n",
    "predict = \"G3\"\n",
    "\n",
    "X = np.array(data.drop([predict], axis=1)) # Features\n",
    "y = np.array(data[predict]) # Label"
   ]
  },
  {
   "cell_type": "code",
   "execution_count": 5,
   "id": "687d215f-95de-4ea3-b305-56ddebc308bf",
   "metadata": {},
   "outputs": [],
   "source": [
    "# Create train and test variables\n",
    "X_train, X_test, y_train, y_test = sklearn.model_selection.train_test_split(X, y, test_size=0.1)"
   ]
  },
  {
   "cell_type": "code",
   "execution_count": 17,
   "id": "eef9f99f-431e-4a25-a848-be805a0ee5c7",
   "metadata": {
    "collapsed": true,
    "jupyter": {
     "outputs_hidden": true
    },
    "tags": []
   },
   "outputs": [
    {
     "name": "stdout",
     "output_type": "stream",
     "text": [
      "Accuracy: 0.706560512558025\n",
      "Accuracy: 0.7769106236192647\n",
      "Accuracy: 0.8902991640887865\n",
      "Accuracy: 0.8353531740884206\n",
      "Accuracy: 0.7959018872180701\n",
      "Accuracy: 0.9071466276910666\n",
      "Accuracy: 0.9072739970941348\n",
      "Accuracy: 0.7843046545287652\n",
      "Accuracy: 0.7434153666733715\n",
      "Accuracy: 0.8909360761127183\n",
      "Accuracy: 0.6964975614301836\n",
      "Accuracy: 0.7227829370183227\n",
      "Accuracy: 0.7974075287667063\n",
      "Accuracy: 0.8667650370323968\n",
      "Accuracy: 0.7842085722086172\n",
      "Accuracy: 0.816777235595624\n",
      "Accuracy: 0.6529949365755321\n",
      "Accuracy: 0.6199924338376288\n",
      "Accuracy: 0.7472556025525576\n",
      "Accuracy: 0.8475818167189042\n",
      "Accuracy: 0.8021540605824364\n",
      "Accuracy: 0.8523740658206231\n",
      "Accuracy: 0.9538612705736668\n"
     ]
    }
   ],
   "source": [
    "# Train model multiple times for best acc\n",
    "best = 0\n",
    "for _ in range(100):\n",
    "    X_train, X_test, y_train, y_test = sklearn.model_selection.train_test_split(X, y, test_size=0.1)\n",
    "\n",
    "    linear = linear_model.LinearRegression()\n",
    "\n",
    "    linear.fit(X_train, y_train)\n",
    "    acc = linear.score(X_test, y_test)\n",
    "    print(\"Accuracy:\", str(acc))\n",
    "    \n",
    "    # If the current model has a better score than one we've already trained then save it\n",
    "    if acc > best:\n",
    "        best = acc\n",
    "        with open(\"studentgrades.pickle\", \"wb\") as f:\n",
    "            pickle.dump(linear, f)\n",
    "        if acc >= 0.95:\n",
    "            break"
   ]
  },
  {
   "cell_type": "code",
   "execution_count": 20,
   "id": "15ed5d53-4450-4360-9111-d02892262611",
   "metadata": {},
   "outputs": [
    {
     "data": {
      "text/plain": [
       "0.9538612705736668"
      ]
     },
     "execution_count": 20,
     "metadata": {},
     "output_type": "execute_result"
    }
   ],
   "source": [
    "# เปิด pickle มาเช็ค acc\n",
    "pickle_in = open(\"C:/Users/USER/Documents/JupyterLab/ML_basic_algorithms/linear_regression/studentmodel.pickle\", \"rb\")\n",
    "linear = pickle.load(pickle_in)\n",
    "acc"
   ]
  }
 ],
 "metadata": {
  "kernelspec": {
   "display_name": "Python 3 (ipykernel)",
   "language": "python",
   "name": "python3"
  },
  "language_info": {
   "codemirror_mode": {
    "name": "ipython",
    "version": 3
   },
   "file_extension": ".py",
   "mimetype": "text/x-python",
   "name": "python",
   "nbconvert_exporter": "python",
   "pygments_lexer": "ipython3",
   "version": "3.9.13"
  }
 },
 "nbformat": 4,
 "nbformat_minor": 5
}
