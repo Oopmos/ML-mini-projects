{
 "cells": [
  {
   "cell_type": "markdown",
   "id": "adaacc73-cc4c-48f1-8c6d-7d36e0030629",
   "metadata": {
    "jp-MarkdownHeadingCollapsed": true,
    "tags": []
   },
   "source": [
    "## Import modules"
   ]
  },
  {
   "cell_type": "code",
   "execution_count": 2,
   "id": "03d933f5-fc71-4857-b5f2-997b19fda26c",
   "metadata": {},
   "outputs": [],
   "source": [
    "import sklearn\n",
    "from sklearn import linear_model, preprocessing\n",
    "from sklearn.utils import shuffle\n",
    "from sklearn.neighbors import KNeighborsClassifier\n",
    "\n",
    "import pandas as pd\n",
    "import numpy as np"
   ]
  },
  {
   "cell_type": "markdown",
   "id": "11ed3956-db7a-424f-815b-250a2a300707",
   "metadata": {
    "jp-MarkdownHeadingCollapsed": true,
    "tags": []
   },
   "source": [
    "## Read data from dataset"
   ]
  },
  {
   "cell_type": "code",
   "execution_count": 3,
   "id": "3ef00fc7-7a01-41b3-95f7-705072a9a651",
   "metadata": {},
   "outputs": [
    {
     "data": {
      "text/html": [
       "<div>\n",
       "<style scoped>\n",
       "    .dataframe tbody tr th:only-of-type {\n",
       "        vertical-align: middle;\n",
       "    }\n",
       "\n",
       "    .dataframe tbody tr th {\n",
       "        vertical-align: top;\n",
       "    }\n",
       "\n",
       "    .dataframe thead th {\n",
       "        text-align: right;\n",
       "    }\n",
       "</style>\n",
       "<table border=\"1\" class=\"dataframe\">\n",
       "  <thead>\n",
       "    <tr style=\"text-align: right;\">\n",
       "      <th></th>\n",
       "      <th>buying</th>\n",
       "      <th>maint</th>\n",
       "      <th>door</th>\n",
       "      <th>persons</th>\n",
       "      <th>lug_boot</th>\n",
       "      <th>safety</th>\n",
       "      <th>class</th>\n",
       "    </tr>\n",
       "  </thead>\n",
       "  <tbody>\n",
       "    <tr>\n",
       "      <th>0</th>\n",
       "      <td>vhigh</td>\n",
       "      <td>vhigh</td>\n",
       "      <td>2</td>\n",
       "      <td>2</td>\n",
       "      <td>small</td>\n",
       "      <td>low</td>\n",
       "      <td>unacc</td>\n",
       "    </tr>\n",
       "    <tr>\n",
       "      <th>1</th>\n",
       "      <td>vhigh</td>\n",
       "      <td>vhigh</td>\n",
       "      <td>2</td>\n",
       "      <td>2</td>\n",
       "      <td>small</td>\n",
       "      <td>med</td>\n",
       "      <td>unacc</td>\n",
       "    </tr>\n",
       "    <tr>\n",
       "      <th>2</th>\n",
       "      <td>vhigh</td>\n",
       "      <td>vhigh</td>\n",
       "      <td>2</td>\n",
       "      <td>2</td>\n",
       "      <td>small</td>\n",
       "      <td>high</td>\n",
       "      <td>unacc</td>\n",
       "    </tr>\n",
       "    <tr>\n",
       "      <th>3</th>\n",
       "      <td>vhigh</td>\n",
       "      <td>vhigh</td>\n",
       "      <td>2</td>\n",
       "      <td>2</td>\n",
       "      <td>med</td>\n",
       "      <td>low</td>\n",
       "      <td>unacc</td>\n",
       "    </tr>\n",
       "    <tr>\n",
       "      <th>4</th>\n",
       "      <td>vhigh</td>\n",
       "      <td>vhigh</td>\n",
       "      <td>2</td>\n",
       "      <td>2</td>\n",
       "      <td>med</td>\n",
       "      <td>med</td>\n",
       "      <td>unacc</td>\n",
       "    </tr>\n",
       "  </tbody>\n",
       "</table>\n",
       "</div>"
      ],
      "text/plain": [
       "  buying  maint door persons lug_boot safety  class\n",
       "0  vhigh  vhigh    2       2    small    low  unacc\n",
       "1  vhigh  vhigh    2       2    small    med  unacc\n",
       "2  vhigh  vhigh    2       2    small   high  unacc\n",
       "3  vhigh  vhigh    2       2      med    low  unacc\n",
       "4  vhigh  vhigh    2       2      med    med  unacc"
      ]
     },
     "execution_count": 3,
     "metadata": {},
     "output_type": "execute_result"
    }
   ],
   "source": [
    "data = pd.read_csv(\"C:/Users/USER/Documents/JupyterLab/ML_basic_algorithms/KNN/dataset/car.data\")\n",
    "data.head()"
   ]
  },
  {
   "cell_type": "markdown",
   "id": "abaef8fc-954e-4190-b277-0a5bfa9fcb36",
   "metadata": {
    "jp-MarkdownHeadingCollapsed": true,
    "tags": []
   },
   "source": [
    "## Converting data\n",
    "เราไม่สามารถนำข้อมูลที่เป็น string มาใช้งานได้ เราสามารถใช้ sklearn แปลงข้อความจำพวก low, high, vhigh เป็นตัวเลขได้"
   ]
  },
  {
   "cell_type": "code",
   "execution_count": 4,
   "id": "3adcb4aa-89b7-4fce-bce8-9410ae0a6540",
   "metadata": {},
   "outputs": [],
   "source": [
    "# Creating a label encoder object and use that to encode each column of our data into integers\n",
    "le = preprocessing.LabelEncoder()"
   ]
  },
  {
   "cell_type": "markdown",
   "id": "c986b80b-c4d2-4cc4-b273-9cfe1eb8a926",
   "metadata": {},
   "source": [
    "ใช้ method fit_transform() เก็บ list ของข้อมูลเราในแต่ละ column แล้วจะได้ผลลัพธ์มาเป็น array ที่แปลงจาก str เป็น int แล้ว"
   ]
  },
  {
   "cell_type": "code",
   "execution_count": 6,
   "id": "f0c2b60d-acd8-44a8-9956-f4bbda6af1dc",
   "metadata": {},
   "outputs": [],
   "source": [
    "buying = le.fit_transform(list(data[\"buying\"]))\n",
    "maint = le.fit_transform(list(data[\"maint\"]))\n",
    "door = le.fit_transform(list(data[\"door\"]))\n",
    "persons = le.fit_transform(list(data[\"persons\"]))\n",
    "lug_boot = le.fit_transform(list(data[\"lug_boot\"]))\n",
    "safety = le.fit_transform(list(data[\"safety\"]))\n",
    "cls = le.fit_transform(list(data[\"class\"]))"
   ]
  },
  {
   "cell_type": "code",
   "execution_count": 9,
   "id": "1eeebc06-9399-40c0-9c8d-14c8ea1d0d78",
   "metadata": {},
   "outputs": [
    {
     "name": "stdout",
     "output_type": "stream",
     "text": [
      "[1 2 0 ... 1 2 0]\n"
     ]
    }
   ],
   "source": [
    "# cheack arrays\n",
    "print(safety)"
   ]
  },
  {
   "cell_type": "markdown",
   "id": "8fffef14-0f59-4b7b-a626-d6a8bda229dd",
   "metadata": {
    "jp-MarkdownHeadingCollapsed": true,
    "tags": []
   },
   "source": [
    "## Create training and test data"
   ]
  },
  {
   "cell_type": "code",
   "execution_count": 10,
   "id": "9bed5ed0-529b-484e-8dd4-cac2a1767093",
   "metadata": {},
   "outputs": [],
   "source": [
    "X = list(zip(buying, maint, door, persons, lug_boot, safety)) # features\n",
    "y = list(cls) # label"
   ]
  },
  {
   "cell_type": "code",
   "execution_count": 12,
   "id": "ad52b9f2-573d-4a98-aea3-cda776481a42",
   "metadata": {},
   "outputs": [],
   "source": [
    "X_train, X_test, y_train, y_test = sklearn.model_selection.train_test_split(X, y, test_size=0.1)"
   ]
  },
  {
   "cell_type": "markdown",
   "id": "988f7470-83d8-471c-b130-d99134827fde",
   "metadata": {
    "jp-MarkdownHeadingCollapsed": true,
    "tags": []
   },
   "source": [
    "## Training a KNN Classifier"
   ]
  },
  {
   "cell_type": "code",
   "execution_count": 30,
   "id": "500f522d-f563-46f9-943c-641ff04be466",
   "metadata": {},
   "outputs": [],
   "source": [
    "# ค่า n ต้องเป็นเลขคี่เท่านั้นไม่งั้นอาจะเกิดเหตุการณ์ที่ไม่สามารถแบ่งกลุ่มได้\n",
    "# จูนค่า n จนได้ acc ที่น่าพึ่งพอใจ\n",
    "model = KNeighborsClassifier(n_neighbors=7)\n",
    "model.fit(X_train, y_train)\n",
    "acc = model.score(X_test, y_test)"
   ]
  },
  {
   "cell_type": "code",
   "execution_count": 31,
   "id": "a3e61cc0-d77a-47a3-aaf8-85cdb9a38311",
   "metadata": {},
   "outputs": [
    {
     "name": "stdout",
     "output_type": "stream",
     "text": [
      "0.9364161849710982\n"
     ]
    }
   ],
   "source": [
    "print(acc)"
   ]
  },
  {
   "cell_type": "markdown",
   "id": "fee87d56-578e-4d58-9b26-f91f499dce3f",
   "metadata": {
    "jp-MarkdownHeadingCollapsed": true,
    "tags": []
   },
   "source": [
    "## Test model"
   ]
  },
  {
   "cell_type": "code",
   "execution_count": 33,
   "id": "c5ab7c1c-63a0-4e0b-b62d-cd9d92783152",
   "metadata": {
    "collapsed": true,
    "jupyter": {
     "outputs_hidden": true
    },
    "tags": []
   },
   "outputs": [
    {
     "name": "stdout",
     "output_type": "stream",
     "text": [
      "Predicted: good Data: (3, 2, 3, 2, 1, 1) Actual: good\n",
      "Predicted: unacc Data: (2, 2, 3, 2, 1, 2) Actual: unacc\n",
      "Predicted: good Data: (1, 2, 0, 2, 2, 1) Actual: good\n",
      "Predicted: good Data: (0, 1, 2, 1, 1, 1) Actual: good\n",
      "Predicted: unacc Data: (1, 1, 1, 1, 0, 2) Actual: acc\n",
      "Predicted: unacc Data: (0, 1, 0, 1, 0, 2) Actual: unacc\n",
      "Predicted: good Data: (1, 1, 0, 0, 1, 2) Actual: good\n",
      "Predicted: good Data: (1, 3, 3, 0, 1, 2) Actual: good\n",
      "Predicted: acc Data: (2, 1, 1, 2, 0, 2) Actual: acc\n",
      "Predicted: good Data: (1, 1, 2, 0, 2, 1) Actual: good\n",
      "Predicted: good Data: (2, 3, 0, 0, 1, 2) Actual: good\n",
      "Predicted: good Data: (0, 3, 3, 1, 1, 0) Actual: good\n",
      "Predicted: good Data: (0, 2, 1, 2, 2, 1) Actual: good\n",
      "Predicted: unacc Data: (1, 3, 0, 1, 1, 0) Actual: unacc\n",
      "Predicted: good Data: (2, 0, 2, 0, 0, 0) Actual: good\n",
      "Predicted: good Data: (3, 0, 1, 1, 0, 0) Actual: good\n",
      "Predicted: good Data: (1, 0, 3, 0, 1, 1) Actual: good\n",
      "Predicted: good Data: (2, 3, 0, 2, 0, 1) Actual: good\n",
      "Predicted: good Data: (2, 1, 3, 0, 1, 1) Actual: good\n",
      "Predicted: good Data: (3, 0, 4, 0, 1, 0) Actual: good\n",
      "Predicted: good Data: (0, 3, 3, 2, 0, 1) Actual: good\n",
      "Predicted: good Data: (0, 3, 1, 0, 0, 0) Actual: good\n",
      "Predicted: good Data: (0, 1, 3, 1, 2, 2) Actual: good\n",
      "Predicted: good Data: (1, 3, 1, 0, 1, 2) Actual: good\n",
      "Predicted: good Data: (3, 1, 3, 0, 0, 1) Actual: good\n",
      "Predicted: good Data: (2, 1, 0, 0, 1, 2) Actual: good\n",
      "Predicted: good Data: (3, 2, 2, 0, 2, 1) Actual: good\n",
      "Predicted: unacc Data: (1, 0, 0, 2, 0, 2) Actual: unacc\n",
      "Predicted: acc Data: (1, 1, 3, 2, 1, 2) Actual: acc\n",
      "Predicted: good Data: (0, 2, 3, 0, 0, 1) Actual: good\n",
      "Predicted: good Data: (3, 3, 3, 2, 1, 2) Actual: good\n",
      "Predicted: unacc Data: (2, 3, 3, 2, 0, 0) Actual: unacc\n",
      "Predicted: acc Data: (1, 1, 0, 1, 1, 0) Actual: acc\n",
      "Predicted: good Data: (1, 2, 3, 0, 1, 0) Actual: good\n",
      "Predicted: good Data: (0, 1, 2, 0, 2, 0) Actual: good\n",
      "Predicted: unacc Data: (1, 3, 1, 2, 0, 0) Actual: unacc\n",
      "Predicted: good Data: (3, 0, 0, 0, 0, 2) Actual: good\n",
      "Predicted: good Data: (2, 3, 0, 0, 2, 2) Actual: good\n",
      "Predicted: unacc Data: (0, 2, 2, 2, 1, 0) Actual: unacc\n",
      "Predicted: good Data: (0, 0, 0, 0, 1, 1) Actual: good\n",
      "Predicted: good Data: (0, 1, 1, 0, 2, 2) Actual: good\n",
      "Predicted: good Data: (3, 2, 1, 1, 1, 2) Actual: good\n",
      "Predicted: good Data: (1, 0, 1, 0, 0, 2) Actual: good\n",
      "Predicted: good Data: (2, 1, 0, 0, 0, 2) Actual: good\n",
      "Predicted: acc Data: (1, 1, 1, 2, 2, 0) Actual: acc\n",
      "Predicted: good Data: (1, 0, 3, 0, 0, 0) Actual: good\n",
      "Predicted: good Data: (1, 0, 1, 2, 1, 1) Actual: good\n",
      "Predicted: good Data: (2, 3, 2, 2, 1, 1) Actual: good\n",
      "Predicted: good Data: (2, 3, 1, 1, 0, 2) Actual: unacc\n",
      "Predicted: good Data: (3, 3, 0, 2, 0, 2) Actual: good\n",
      "Predicted: unacc Data: (1, 2, 1, 2, 2, 2) Actual: unacc\n",
      "Predicted: good Data: (3, 2, 3, 1, 2, 2) Actual: good\n",
      "Predicted: good Data: (0, 3, 0, 0, 0, 1) Actual: good\n",
      "Predicted: good Data: (1, 3, 1, 2, 1, 1) Actual: good\n",
      "Predicted: good Data: (3, 3, 1, 2, 1, 1) Actual: good\n",
      "Predicted: good Data: (2, 0, 1, 1, 1, 1) Actual: good\n",
      "Predicted: good Data: (1, 0, 1, 1, 1, 1) Actual: good\n",
      "Predicted: good Data: (3, 2, 0, 0, 2, 1) Actual: good\n",
      "Predicted: good Data: (3, 1, 3, 0, 2, 2) Actual: good\n",
      "Predicted: unacc Data: (3, 2, 3, 2, 1, 0) Actual: unacc\n",
      "Predicted: good Data: (0, 2, 3, 0, 1, 2) Actual: good\n",
      "Predicted: unacc Data: (3, 1, 0, 1, 0, 0) Actual: unacc\n",
      "Predicted: good Data: (1, 3, 1, 0, 2, 2) Actual: good\n",
      "Predicted: good Data: (2, 0, 0, 0, 1, 2) Actual: good\n",
      "Predicted: acc Data: (1, 1, 1, 1, 2, 0) Actual: acc\n",
      "Predicted: good Data: (3, 0, 0, 0, 0, 0) Actual: good\n",
      "Predicted: unacc Data: (1, 0, 0, 1, 1, 2) Actual: unacc\n",
      "Predicted: good Data: (3, 1, 1, 0, 1, 2) Actual: good\n",
      "Predicted: unacc Data: (2, 1, 0, 1, 0, 2) Actual: acc\n",
      "Predicted: acc Data: (1, 1, 3, 1, 2, 0) Actual: acc\n",
      "Predicted: good Data: (2, 0, 1, 1, 2, 1) Actual: good\n",
      "Predicted: good Data: (2, 2, 0, 0, 0, 1) Actual: good\n",
      "Predicted: good Data: (3, 0, 4, 0, 2, 1) Actual: good\n",
      "Predicted: good Data: (0, 2, 2, 2, 0, 1) Actual: good\n",
      "Predicted: good Data: (0, 2, 1, 1, 0, 1) Actual: good\n",
      "Predicted: unacc Data: (0, 0, 3, 2, 0, 2) Actual: unacc\n",
      "Predicted: good Data: (3, 1, 2, 2, 2, 2) Actual: good\n",
      "Predicted: good Data: (1, 2, 1, 0, 0, 2) Actual: good\n",
      "Predicted: good Data: (3, 0, 4, 0, 0, 1) Actual: good\n",
      "Predicted: good Data: (2, 1, 3, 0, 0, 1) Actual: good\n",
      "Predicted: good Data: (3, 0, 1, 0, 1, 1) Actual: good\n",
      "Predicted: good Data: (3, 0, 4, 2, 2, 0) Actual: good\n",
      "Predicted: acc Data: (1, 2, 1, 1, 1, 0) Actual: acc\n",
      "Predicted: good Data: (3, 3, 2, 2, 1, 0) Actual: good\n",
      "Predicted: good Data: (1, 0, 3, 0, 1, 0) Actual: good\n",
      "Predicted: unacc Data: (0, 0, 1, 1, 1, 0) Actual: unacc\n",
      "Predicted: good Data: (1, 1, 0, 1, 1, 1) Actual: good\n",
      "Predicted: good Data: (0, 2, 0, 0, 2, 1) Actual: good\n",
      "Predicted: unacc Data: (0, 0, 2, 1, 0, 2) Actual: unacc\n",
      "Predicted: good Data: (2, 1, 0, 2, 1, 1) Actual: good\n",
      "Predicted: good Data: (3, 1, 2, 2, 1, 1) Actual: good\n",
      "Predicted: good Data: (2, 2, 2, 0, 1, 0) Actual: good\n",
      "Predicted: good Data: (2, 2, 1, 0, 0, 0) Actual: good\n",
      "Predicted: good Data: (1, 1, 1, 0, 2, 2) Actual: good\n",
      "Predicted: good Data: (0, 3, 1, 2, 0, 0) Actual: good\n",
      "Predicted: unacc Data: (2, 3, 0, 1, 1, 0) Actual: unacc\n",
      "Predicted: unacc Data: (3, 1, 1, 2, 0, 0) Actual: unacc\n",
      "Predicted: good Data: (1, 3, 1, 2, 2, 2) Actual: good\n",
      "Predicted: good Data: (0, 1, 2, 1, 0, 1) Actual: good\n",
      "Predicted: unacc Data: (0, 2, 3, 1, 0, 0) Actual: unacc\n",
      "Predicted: good Data: (1, 0, 0, 0, 1, 0) Actual: good\n",
      "Predicted: good Data: (0, 0, 2, 0, 0, 1) Actual: good\n",
      "Predicted: good Data: (3, 3, 2, 2, 2, 0) Actual: good\n",
      "Predicted: good Data: (2, 0, 2, 0, 2, 2) Actual: good\n",
      "Predicted: good Data: (3, 3, 1, 0, 2, 1) Actual: good\n",
      "Predicted: good Data: (1, 2, 3, 0, 2, 2) Actual: good\n",
      "Predicted: good Data: (3, 0, 1, 1, 1, 1) Actual: good\n",
      "Predicted: good Data: (3, 0, 0, 0, 0, 1) Actual: good\n",
      "Predicted: good Data: (2, 1, 2, 1, 2, 2) Actual: unacc\n",
      "Predicted: vgood Data: (2, 2, 2, 2, 0, 0) Actual: vgood\n",
      "Predicted: good Data: (0, 0, 0, 2, 1, 2) Actual: good\n",
      "Predicted: unacc Data: (0, 2, 3, 2, 1, 0) Actual: unacc\n",
      "Predicted: unacc Data: (0, 2, 2, 1, 2, 0) Actual: unacc\n",
      "Predicted: unacc Data: (2, 3, 3, 2, 2, 0) Actual: unacc\n",
      "Predicted: unacc Data: (2, 2, 2, 1, 2, 2) Actual: unacc\n",
      "Predicted: good Data: (0, 2, 0, 1, 1, 2) Actual: good\n",
      "Predicted: unacc Data: (1, 0, 3, 1, 2, 0) Actual: unacc\n",
      "Predicted: unacc Data: (1, 3, 0, 2, 0, 0) Actual: unacc\n",
      "Predicted: good Data: (0, 3, 2, 1, 1, 2) Actual: good\n",
      "Predicted: good Data: (0, 2, 3, 0, 2, 0) Actual: good\n",
      "Predicted: good Data: (1, 3, 1, 1, 0, 2) Actual: unacc\n",
      "Predicted: good Data: (0, 2, 3, 0, 1, 1) Actual: good\n",
      "Predicted: good Data: (3, 1, 1, 0, 2, 0) Actual: good\n",
      "Predicted: good Data: (1, 2, 0, 0, 0, 1) Actual: good\n",
      "Predicted: good Data: (2, 1, 0, 0, 0, 0) Actual: good\n",
      "Predicted: good Data: (0, 3, 1, 1, 1, 2) Actual: good\n",
      "Predicted: unacc Data: (0, 0, 3, 1, 1, 2) Actual: unacc\n",
      "Predicted: good Data: (3, 3, 1, 0, 1, 2) Actual: good\n",
      "Predicted: good Data: (3, 1, 2, 2, 2, 1) Actual: good\n",
      "Predicted: good Data: (3, 3, 3, 1, 2, 2) Actual: good\n",
      "Predicted: unacc Data: (1, 0, 1, 2, 2, 0) Actual: unacc\n",
      "Predicted: unacc Data: (2, 2, 3, 2, 2, 2) Actual: unacc\n",
      "Predicted: good Data: (3, 1, 1, 0, 1, 0) Actual: good\n",
      "Predicted: good Data: (1, 3, 1, 2, 2, 1) Actual: good\n",
      "Predicted: good Data: (3, 3, 0, 2, 2, 0) Actual: good\n",
      "Predicted: good Data: (1, 3, 2, 1, 2, 1) Actual: good\n",
      "Predicted: good Data: (1, 3, 2, 2, 1, 1) Actual: good\n",
      "Predicted: good Data: (1, 1, 3, 0, 1, 0) Actual: good\n",
      "Predicted: good Data: (1, 0, 1, 0, 1, 2) Actual: good\n",
      "Predicted: unacc Data: (0, 1, 1, 1, 1, 0) Actual: unacc\n",
      "Predicted: good Data: (1, 2, 2, 0, 1, 1) Actual: good\n",
      "Predicted: unacc Data: (3, 2, 1, 1, 0, 0) Actual: unacc\n",
      "Predicted: unacc Data: (3, 2, 3, 1, 0, 0) Actual: unacc\n",
      "Predicted: acc Data: (1, 1, 2, 2, 0, 2) Actual: acc\n",
      "Predicted: good Data: (0, 1, 3, 0, 2, 2) Actual: good\n",
      "Predicted: good Data: (2, 2, 0, 2, 0, 1) Actual: good\n",
      "Predicted: good Data: (2, 2, 2, 0, 2, 2) Actual: good\n",
      "Predicted: good Data: (0, 1, 0, 0, 1, 0) Actual: good\n",
      "Predicted: unacc Data: (1, 0, 0, 2, 0, 0) Actual: vgood\n",
      "Predicted: good Data: (2, 0, 3, 2, 1, 1) Actual: good\n",
      "Predicted: good Data: (1, 3, 0, 0, 0, 1) Actual: good\n",
      "Predicted: good Data: (2, 0, 0, 1, 1, 1) Actual: good\n",
      "Predicted: vgood Data: (2, 2, 3, 1, 1, 0) Actual: vgood\n",
      "Predicted: good Data: (2, 0, 0, 1, 2, 0) Actual: unacc\n",
      "Predicted: good Data: (3, 3, 0, 2, 0, 0) Actual: good\n",
      "Predicted: unacc Data: (1, 2, 0, 1, 1, 2) Actual: unacc\n",
      "Predicted: unacc Data: (2, 0, 0, 2, 1, 2) Actual: good\n",
      "Predicted: unacc Data: (0, 2, 0, 2, 1, 0) Actual: unacc\n",
      "Predicted: good Data: (1, 0, 2, 0, 1, 2) Actual: good\n",
      "Predicted: good Data: (1, 0, 2, 0, 0, 1) Actual: good\n",
      "Predicted: good Data: (0, 3, 0, 2, 1, 0) Actual: good\n",
      "Predicted: unacc Data: (0, 1, 3, 2, 1, 2) Actual: unacc\n",
      "Predicted: good Data: (0, 3, 0, 1, 2, 0) Actual: good\n",
      "Predicted: good Data: (0, 0, 3, 0, 0, 2) Actual: good\n",
      "Predicted: good Data: (1, 1, 0, 1, 0, 2) Actual: acc\n",
      "Predicted: good Data: (0, 0, 1, 0, 2, 2) Actual: good\n",
      "Predicted: good Data: (3, 0, 2, 2, 2, 0) Actual: good\n",
      "Predicted: good Data: (3, 3, 0, 1, 2, 1) Actual: good\n",
      "Predicted: good Data: (3, 0, 2, 1, 0, 0) Actual: good\n",
      "Predicted: good Data: (0, 0, 3, 2, 0, 1) Actual: good\n",
      "Predicted: good Data: (2, 3, 3, 2, 2, 1) Actual: good\n",
      "Predicted: unacc Data: (1, 2, 0, 1, 0, 2) Actual: acc\n",
      "Predicted: unacc Data: (2, 1, 1, 2, 2, 0) Actual: acc\n"
     ]
    }
   ],
   "source": [
    "predicted = model.predict(X_test)\n",
    "# กำหนดข้อความมาใช้แทนตัวเลขในคำตอบ\n",
    "name = [\"unacc\", \"acc\", \"good\", \"vgood\"]\n",
    "\n",
    "for x in range(len(predicted)):\n",
    "    print(\"Predicted:\", name[predicted[x]], \"Data:\", X_test[x], \"Actual:\", name[y_test[x]])"
   ]
  },
  {
   "cell_type": "code",
   "execution_count": null,
   "id": "b6615a5b-8588-40ff-90b6-7ae35933dcec",
   "metadata": {},
   "outputs": [],
   "source": []
  }
 ],
 "metadata": {
  "kernelspec": {
   "display_name": "Python 3 (ipykernel)",
   "language": "python",
   "name": "python3"
  },
  "language_info": {
   "codemirror_mode": {
    "name": "ipython",
    "version": 3
   },
   "file_extension": ".py",
   "mimetype": "text/x-python",
   "name": "python",
   "nbconvert_exporter": "python",
   "pygments_lexer": "ipython3",
   "version": "3.9.13"
  }
 },
 "nbformat": 4,
 "nbformat_minor": 5
}
