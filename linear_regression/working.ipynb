{
 "cells": [
  {
   "cell_type": "markdown",
   "id": "88b90075-b34d-49df-9816-ecfa848cd72d",
   "metadata": {
    "jp-MarkdownHeadingCollapsed": true,
    "tags": []
   },
   "source": [
    "## Import modules"
   ]
  },
  {
   "cell_type": "code",
   "execution_count": 23,
   "id": "c506e601-1da3-4ba0-9c8b-bd658e8a610c",
   "metadata": {},
   "outputs": [],
   "source": [
    "import pandas as pd\n",
    "import numpy as np\n",
    "import matplotlib.pyplot as pyplot\n",
    "from matplotlib import style\n",
    "import pickle\n",
    "import sklearn\n",
    "from sklearn import linear_model\n",
    "from sklearn.utils import shuffle"
   ]
  },
  {
   "cell_type": "markdown",
   "id": "16971e53-fae2-4ba1-be7e-8488c4d77c5a",
   "metadata": {
    "jp-MarkdownHeadingCollapsed": true,
    "tags": []
   },
   "source": [
    "## Read data from CSV\n",
    "สามารถดูคำอธิบายในแต่ละ column ได้ใน student.txt"
   ]
  },
  {
   "cell_type": "code",
   "execution_count": 24,
   "id": "0f9688d4-91ad-46aa-bf9e-cab6344d430f",
   "metadata": {},
   "outputs": [
    {
     "data": {
      "text/html": [
       "<div>\n",
       "<style scoped>\n",
       "    .dataframe tbody tr th:only-of-type {\n",
       "        vertical-align: middle;\n",
       "    }\n",
       "\n",
       "    .dataframe tbody tr th {\n",
       "        vertical-align: top;\n",
       "    }\n",
       "\n",
       "    .dataframe thead th {\n",
       "        text-align: right;\n",
       "    }\n",
       "</style>\n",
       "<table border=\"1\" class=\"dataframe\">\n",
       "  <thead>\n",
       "    <tr style=\"text-align: right;\">\n",
       "      <th></th>\n",
       "      <th>school</th>\n",
       "      <th>sex</th>\n",
       "      <th>age</th>\n",
       "      <th>address</th>\n",
       "      <th>famsize</th>\n",
       "      <th>Pstatus</th>\n",
       "      <th>Medu</th>\n",
       "      <th>Fedu</th>\n",
       "      <th>Mjob</th>\n",
       "      <th>Fjob</th>\n",
       "      <th>...</th>\n",
       "      <th>famrel</th>\n",
       "      <th>freetime</th>\n",
       "      <th>goout</th>\n",
       "      <th>Dalc</th>\n",
       "      <th>Walc</th>\n",
       "      <th>health</th>\n",
       "      <th>absences</th>\n",
       "      <th>G1</th>\n",
       "      <th>G2</th>\n",
       "      <th>G3</th>\n",
       "    </tr>\n",
       "  </thead>\n",
       "  <tbody>\n",
       "    <tr>\n",
       "      <th>0</th>\n",
       "      <td>GP</td>\n",
       "      <td>F</td>\n",
       "      <td>18</td>\n",
       "      <td>U</td>\n",
       "      <td>GT3</td>\n",
       "      <td>A</td>\n",
       "      <td>4</td>\n",
       "      <td>4</td>\n",
       "      <td>at_home</td>\n",
       "      <td>teacher</td>\n",
       "      <td>...</td>\n",
       "      <td>4</td>\n",
       "      <td>3</td>\n",
       "      <td>4</td>\n",
       "      <td>1</td>\n",
       "      <td>1</td>\n",
       "      <td>3</td>\n",
       "      <td>6</td>\n",
       "      <td>5</td>\n",
       "      <td>6</td>\n",
       "      <td>6</td>\n",
       "    </tr>\n",
       "    <tr>\n",
       "      <th>1</th>\n",
       "      <td>GP</td>\n",
       "      <td>F</td>\n",
       "      <td>17</td>\n",
       "      <td>U</td>\n",
       "      <td>GT3</td>\n",
       "      <td>T</td>\n",
       "      <td>1</td>\n",
       "      <td>1</td>\n",
       "      <td>at_home</td>\n",
       "      <td>other</td>\n",
       "      <td>...</td>\n",
       "      <td>5</td>\n",
       "      <td>3</td>\n",
       "      <td>3</td>\n",
       "      <td>1</td>\n",
       "      <td>1</td>\n",
       "      <td>3</td>\n",
       "      <td>4</td>\n",
       "      <td>5</td>\n",
       "      <td>5</td>\n",
       "      <td>6</td>\n",
       "    </tr>\n",
       "    <tr>\n",
       "      <th>2</th>\n",
       "      <td>GP</td>\n",
       "      <td>F</td>\n",
       "      <td>15</td>\n",
       "      <td>U</td>\n",
       "      <td>LE3</td>\n",
       "      <td>T</td>\n",
       "      <td>1</td>\n",
       "      <td>1</td>\n",
       "      <td>at_home</td>\n",
       "      <td>other</td>\n",
       "      <td>...</td>\n",
       "      <td>4</td>\n",
       "      <td>3</td>\n",
       "      <td>2</td>\n",
       "      <td>2</td>\n",
       "      <td>3</td>\n",
       "      <td>3</td>\n",
       "      <td>10</td>\n",
       "      <td>7</td>\n",
       "      <td>8</td>\n",
       "      <td>10</td>\n",
       "    </tr>\n",
       "    <tr>\n",
       "      <th>3</th>\n",
       "      <td>GP</td>\n",
       "      <td>F</td>\n",
       "      <td>15</td>\n",
       "      <td>U</td>\n",
       "      <td>GT3</td>\n",
       "      <td>T</td>\n",
       "      <td>4</td>\n",
       "      <td>2</td>\n",
       "      <td>health</td>\n",
       "      <td>services</td>\n",
       "      <td>...</td>\n",
       "      <td>3</td>\n",
       "      <td>2</td>\n",
       "      <td>2</td>\n",
       "      <td>1</td>\n",
       "      <td>1</td>\n",
       "      <td>5</td>\n",
       "      <td>2</td>\n",
       "      <td>15</td>\n",
       "      <td>14</td>\n",
       "      <td>15</td>\n",
       "    </tr>\n",
       "    <tr>\n",
       "      <th>4</th>\n",
       "      <td>GP</td>\n",
       "      <td>F</td>\n",
       "      <td>16</td>\n",
       "      <td>U</td>\n",
       "      <td>GT3</td>\n",
       "      <td>T</td>\n",
       "      <td>3</td>\n",
       "      <td>3</td>\n",
       "      <td>other</td>\n",
       "      <td>other</td>\n",
       "      <td>...</td>\n",
       "      <td>4</td>\n",
       "      <td>3</td>\n",
       "      <td>2</td>\n",
       "      <td>1</td>\n",
       "      <td>2</td>\n",
       "      <td>5</td>\n",
       "      <td>4</td>\n",
       "      <td>6</td>\n",
       "      <td>10</td>\n",
       "      <td>10</td>\n",
       "    </tr>\n",
       "  </tbody>\n",
       "</table>\n",
       "<p>5 rows × 33 columns</p>\n",
       "</div>"
      ],
      "text/plain": [
       "  school sex  age address famsize Pstatus  Medu  Fedu     Mjob      Fjob  ...  \\\n",
       "0     GP   F   18       U     GT3       A     4     4  at_home   teacher  ...   \n",
       "1     GP   F   17       U     GT3       T     1     1  at_home     other  ...   \n",
       "2     GP   F   15       U     LE3       T     1     1  at_home     other  ...   \n",
       "3     GP   F   15       U     GT3       T     4     2   health  services  ...   \n",
       "4     GP   F   16       U     GT3       T     3     3    other     other  ...   \n",
       "\n",
       "  famrel freetime  goout  Dalc  Walc health absences  G1  G2  G3  \n",
       "0      4        3      4     1     1      3        6   5   6   6  \n",
       "1      5        3      3     1     1      3        4   5   5   6  \n",
       "2      4        3      2     2     3      3       10   7   8  10  \n",
       "3      3        2      2     1     1      5        2  15  14  15  \n",
       "4      4        3      2     1     2      5        4   6  10  10  \n",
       "\n",
       "[5 rows x 33 columns]"
      ]
     },
     "execution_count": 24,
     "metadata": {},
     "output_type": "execute_result"
    }
   ],
   "source": [
    "data = pd.read_csv(\"C:/Users/USER/Documents/JupyterLab/ML_basic_algorithms/linear_regression/dataset/student-mat.csv\", sep=\";\")\n",
    "# ข้อมูลถูกแยกด้วย ;\n",
    "data.head()"
   ]
  },
  {
   "cell_type": "markdown",
   "id": "674d3f07-0feb-45df-b706-26800ebd4f35",
   "metadata": {
    "jp-MarkdownHeadingCollapsed": true,
    "tags": []
   },
   "source": [
    "## Trim Data"
   ]
  },
  {
   "cell_type": "code",
   "execution_count": 25,
   "id": "76a36a9f-5b37-42cd-86cb-9eee600e8dc3",
   "metadata": {},
   "outputs": [
    {
     "data": {
      "text/html": [
       "<div>\n",
       "<style scoped>\n",
       "    .dataframe tbody tr th:only-of-type {\n",
       "        vertical-align: middle;\n",
       "    }\n",
       "\n",
       "    .dataframe tbody tr th {\n",
       "        vertical-align: top;\n",
       "    }\n",
       "\n",
       "    .dataframe thead th {\n",
       "        text-align: right;\n",
       "    }\n",
       "</style>\n",
       "<table border=\"1\" class=\"dataframe\">\n",
       "  <thead>\n",
       "    <tr style=\"text-align: right;\">\n",
       "      <th></th>\n",
       "      <th>G1</th>\n",
       "      <th>G2</th>\n",
       "      <th>G3</th>\n",
       "      <th>studytime</th>\n",
       "      <th>failures</th>\n",
       "      <th>absences</th>\n",
       "    </tr>\n",
       "  </thead>\n",
       "  <tbody>\n",
       "    <tr>\n",
       "      <th>0</th>\n",
       "      <td>5</td>\n",
       "      <td>6</td>\n",
       "      <td>6</td>\n",
       "      <td>2</td>\n",
       "      <td>0</td>\n",
       "      <td>6</td>\n",
       "    </tr>\n",
       "    <tr>\n",
       "      <th>1</th>\n",
       "      <td>5</td>\n",
       "      <td>5</td>\n",
       "      <td>6</td>\n",
       "      <td>2</td>\n",
       "      <td>0</td>\n",
       "      <td>4</td>\n",
       "    </tr>\n",
       "    <tr>\n",
       "      <th>2</th>\n",
       "      <td>7</td>\n",
       "      <td>8</td>\n",
       "      <td>10</td>\n",
       "      <td>2</td>\n",
       "      <td>3</td>\n",
       "      <td>10</td>\n",
       "    </tr>\n",
       "    <tr>\n",
       "      <th>3</th>\n",
       "      <td>15</td>\n",
       "      <td>14</td>\n",
       "      <td>15</td>\n",
       "      <td>3</td>\n",
       "      <td>0</td>\n",
       "      <td>2</td>\n",
       "    </tr>\n",
       "    <tr>\n",
       "      <th>4</th>\n",
       "      <td>6</td>\n",
       "      <td>10</td>\n",
       "      <td>10</td>\n",
       "      <td>2</td>\n",
       "      <td>0</td>\n",
       "      <td>4</td>\n",
       "    </tr>\n",
       "  </tbody>\n",
       "</table>\n",
       "</div>"
      ],
      "text/plain": [
       "   G1  G2  G3  studytime  failures  absences\n",
       "0   5   6   6          2         0         6\n",
       "1   5   5   6          2         0         4\n",
       "2   7   8  10          2         3        10\n",
       "3  15  14  15          3         0         2\n",
       "4   6  10  10          2         0         4"
      ]
     },
     "execution_count": 25,
     "metadata": {},
     "output_type": "execute_result"
    }
   ],
   "source": [
    "data = data[[\"G1\", \"G2\", \"G3\", \"studytime\", \"failures\", \"absences\"]]\n",
    "data.head()"
   ]
  },
  {
   "cell_type": "markdown",
   "id": "37180a1b-3e93-4427-9359-50352927dec4",
   "metadata": {
    "jp-MarkdownHeadingCollapsed": true,
    "tags": []
   },
   "source": [
    "## กำหนด column ที่ต้องการให้ทำนาย\n",
    "ในโปรเจคเราต้องการให้ทำนาย final grade หรือ G3 นั้นเอง\n",
    "\n",
    "- column G3 จะกลายเป็น label\n",
    "- column ที่เหลือจะกลายเป็น features\n",
    "\n",
    "หลังจากนั้นเราจะใช้ numpy สร้าง array ที่เก็บข้อมูล feature ทั้งหมด และ array ที่เก็บข้อมูลของ label"
   ]
  },
  {
   "cell_type": "code",
   "execution_count": 26,
   "id": "e6ac9b17-2c0a-4132-b031-42290f04c24b",
   "metadata": {},
   "outputs": [],
   "source": [
    "predict = \"G3\"\n",
    "\n",
    "X = np.array(data.drop([predict], axis=1)) # Features\n",
    "y = np.array(data[predict]) # Label"
   ]
  },
  {
   "cell_type": "markdown",
   "id": "2a60404b-2e2b-4441-b572-35deeab1bd53",
   "metadata": {
    "jp-MarkdownHeadingCollapsed": true,
    "tags": []
   },
   "source": [
    "## สร้างตัวแปรสำหรับฝึกระบบ และทดสอบระบบ\n",
    "จากนั้นเราจะแยกตัวแปลออกเป็น 2 ประเภทคือ\n",
    "\n",
    "- ตัวแปรสำหรับฝึกระบบ\n",
    "- ตัวแปรสำหรับทดสอบระบบ\n",
    "\n",
    "และเราจะแยกข้อมูลออกมา 10% ไว้สำหรับการทดสอบระบบ"
   ]
  },
  {
   "cell_type": "code",
   "execution_count": 27,
   "id": "56f0a0fa-36fd-4866-b4a0-e558521adf80",
   "metadata": {},
   "outputs": [],
   "source": [
    "X_train, X_test, y_train, y_test = sklearn.model_selection.train_test_split(X, y, test_size=0.1)"
   ]
  },
  {
   "cell_type": "markdown",
   "id": "7fbe71cd-859d-4722-8f61-cc2288f3db56",
   "metadata": {
    "jp-MarkdownHeadingCollapsed": true,
    "tags": []
   },
   "source": [
    "## เลือก algorithm มาใช้\n",
    "ในโปรเจคนี้ feature แต่ละตัวสามารถนำมาสร้างความสัมพันธ์กับ label ได้ง่าย เช่น ขาดเรียนบ่อยจะได้เกรดต่ำ หรือมีระยะเวลาเรียนเยอะส่งผลให้ได้เกรดที่ดี เป็นต้น\n",
    "\n",
    "เราเลยเลือก Linear regression มาใช้กับ model นี้"
   ]
  },
  {
   "cell_type": "code",
   "execution_count": 28,
   "id": "a4d09a80-e18c-4c5d-8640-8d2f74f86146",
   "metadata": {},
   "outputs": [],
   "source": [
    "# กำหนด algorithm\n",
    "linear = linear_model.LinearRegression()"
   ]
  },
  {
   "cell_type": "code",
   "execution_count": 29,
   "id": "b77c302f-da4c-4ae8-89f4-8eaa583b3525",
   "metadata": {},
   "outputs": [
    {
     "data": {
      "text/html": [
       "<style>#sk-container-id-2 {color: black;background-color: white;}#sk-container-id-2 pre{padding: 0;}#sk-container-id-2 div.sk-toggleable {background-color: white;}#sk-container-id-2 label.sk-toggleable__label {cursor: pointer;display: block;width: 100%;margin-bottom: 0;padding: 0.3em;box-sizing: border-box;text-align: center;}#sk-container-id-2 label.sk-toggleable__label-arrow:before {content: \"▸\";float: left;margin-right: 0.25em;color: #696969;}#sk-container-id-2 label.sk-toggleable__label-arrow:hover:before {color: black;}#sk-container-id-2 div.sk-estimator:hover label.sk-toggleable__label-arrow:before {color: black;}#sk-container-id-2 div.sk-toggleable__content {max-height: 0;max-width: 0;overflow: hidden;text-align: left;background-color: #f0f8ff;}#sk-container-id-2 div.sk-toggleable__content pre {margin: 0.2em;color: black;border-radius: 0.25em;background-color: #f0f8ff;}#sk-container-id-2 input.sk-toggleable__control:checked~div.sk-toggleable__content {max-height: 200px;max-width: 100%;overflow: auto;}#sk-container-id-2 input.sk-toggleable__control:checked~label.sk-toggleable__label-arrow:before {content: \"▾\";}#sk-container-id-2 div.sk-estimator input.sk-toggleable__control:checked~label.sk-toggleable__label {background-color: #d4ebff;}#sk-container-id-2 div.sk-label input.sk-toggleable__control:checked~label.sk-toggleable__label {background-color: #d4ebff;}#sk-container-id-2 input.sk-hidden--visually {border: 0;clip: rect(1px 1px 1px 1px);clip: rect(1px, 1px, 1px, 1px);height: 1px;margin: -1px;overflow: hidden;padding: 0;position: absolute;width: 1px;}#sk-container-id-2 div.sk-estimator {font-family: monospace;background-color: #f0f8ff;border: 1px dotted black;border-radius: 0.25em;box-sizing: border-box;margin-bottom: 0.5em;}#sk-container-id-2 div.sk-estimator:hover {background-color: #d4ebff;}#sk-container-id-2 div.sk-parallel-item::after {content: \"\";width: 100%;border-bottom: 1px solid gray;flex-grow: 1;}#sk-container-id-2 div.sk-label:hover label.sk-toggleable__label {background-color: #d4ebff;}#sk-container-id-2 div.sk-serial::before {content: \"\";position: absolute;border-left: 1px solid gray;box-sizing: border-box;top: 0;bottom: 0;left: 50%;z-index: 0;}#sk-container-id-2 div.sk-serial {display: flex;flex-direction: column;align-items: center;background-color: white;padding-right: 0.2em;padding-left: 0.2em;position: relative;}#sk-container-id-2 div.sk-item {position: relative;z-index: 1;}#sk-container-id-2 div.sk-parallel {display: flex;align-items: stretch;justify-content: center;background-color: white;position: relative;}#sk-container-id-2 div.sk-item::before, #sk-container-id-2 div.sk-parallel-item::before {content: \"\";position: absolute;border-left: 1px solid gray;box-sizing: border-box;top: 0;bottom: 0;left: 50%;z-index: -1;}#sk-container-id-2 div.sk-parallel-item {display: flex;flex-direction: column;z-index: 1;position: relative;background-color: white;}#sk-container-id-2 div.sk-parallel-item:first-child::after {align-self: flex-end;width: 50%;}#sk-container-id-2 div.sk-parallel-item:last-child::after {align-self: flex-start;width: 50%;}#sk-container-id-2 div.sk-parallel-item:only-child::after {width: 0;}#sk-container-id-2 div.sk-dashed-wrapped {border: 1px dashed gray;margin: 0 0.4em 0.5em 0.4em;box-sizing: border-box;padding-bottom: 0.4em;background-color: white;}#sk-container-id-2 div.sk-label label {font-family: monospace;font-weight: bold;display: inline-block;line-height: 1.2em;}#sk-container-id-2 div.sk-label-container {text-align: center;}#sk-container-id-2 div.sk-container {/* jupyter's `normalize.less` sets `[hidden] { display: none; }` but bootstrap.min.css set `[hidden] { display: none !important; }` so we also need the `!important` here to be able to override the default hidden behavior on the sphinx rendered scikit-learn.org. See: https://github.com/scikit-learn/scikit-learn/issues/21755 */display: inline-block !important;position: relative;}#sk-container-id-2 div.sk-text-repr-fallback {display: none;}</style><div id=\"sk-container-id-2\" class=\"sk-top-container\"><div class=\"sk-text-repr-fallback\"><pre>LinearRegression()</pre><b>In a Jupyter environment, please rerun this cell to show the HTML representation or trust the notebook. <br />On GitHub, the HTML representation is unable to render, please try loading this page with nbviewer.org.</b></div><div class=\"sk-container\" hidden><div class=\"sk-item\"><div class=\"sk-estimator sk-toggleable\"><input class=\"sk-toggleable__control sk-hidden--visually\" id=\"sk-estimator-id-2\" type=\"checkbox\" checked><label for=\"sk-estimator-id-2\" class=\"sk-toggleable__label sk-toggleable__label-arrow\">LinearRegression</label><div class=\"sk-toggleable__content\"><pre>LinearRegression()</pre></div></div></div></div></div>"
      ],
      "text/plain": [
       "LinearRegression()"
      ]
     },
     "execution_count": 29,
     "metadata": {},
     "output_type": "execute_result"
    }
   ],
   "source": [
    "# ฝึกระบบด้วยตัวแปรได้สร้างไว้\n",
    "linear.fit(X_train, y_train)"
   ]
  },
  {
   "cell_type": "code",
   "execution_count": 30,
   "id": "04302bb3-d109-4a68-9612-0ebbea5a7930",
   "metadata": {},
   "outputs": [
    {
     "name": "stdout",
     "output_type": "stream",
     "text": [
      "0.7078552180525595\n"
     ]
    }
   ],
   "source": [
    "# เช็คความแม่นยำของระบบที่เราฝึก\n",
    "acc = linear.score(X_test, y_test) # Accuracy\n",
    "print(acc)"
   ]
  },
  {
   "cell_type": "markdown",
   "id": "637f88ad-11c3-4084-a139-95aa4e58fff6",
   "metadata": {},
   "source": [
    "ความแม่นยำในแต่ละรอบการ run จะไม่เท่ากัน เพราะระบบจะสุ่มข้อมูลที่ฝึก และข้อมูลที่ใช้ทดสอบแต่ละรอบไม่เหมือนกัน"
   ]
  },
  {
   "cell_type": "markdown",
   "id": "2cc83c24-4e02-4077-954b-7ecec4d85826",
   "metadata": {
    "jp-MarkdownHeadingCollapsed": true,
    "tags": []
   },
   "source": [
    "## Save model ด้วย pickle\n",
    "ในโปรเจคนี้ data ไม่ได้เยอะมากแต่หากเป็นโปรเจคที่มีข้อมูลระดับ bigdata เราคงไม่มานั่งฝึกระบบใหม่ทุกรอบ"
   ]
  },
  {
   "cell_type": "code",
   "execution_count": 31,
   "id": "fbbc799e-ed16-4e93-b53f-51111ef02194",
   "metadata": {},
   "outputs": [],
   "source": [
    "with open(\"studentmodel.pickle\", \"wb\") as f:\n",
    "    pickle.dump(linear, f)"
   ]
  },
  {
   "cell_type": "markdown",
   "id": "89dae893-89cf-4dbb-8ea3-837dd9a31755",
   "metadata": {
    "jp-MarkdownHeadingCollapsed": true,
    "tags": []
   },
   "source": [
    "## เปิด model ที่ save ไว้ (model ที่ได้จากการ loop)"
   ]
  },
  {
   "cell_type": "code",
   "execution_count": 33,
   "id": "e0035f7a-9521-490c-80db-e8500aea14f7",
   "metadata": {},
   "outputs": [],
   "source": [
    "pickle_in = open(\"C:/Users/USER/Documents/JupyterLab/ML_basic_algorithms/linear_regression/studentgrades.pickle\", \"rb\")\n",
    "linear = pickle.load(pickle_in)"
   ]
  },
  {
   "cell_type": "markdown",
   "id": "76453a86-017b-4562-a4c8-071df5c71cfb",
   "metadata": {
    "jp-MarkdownHeadingCollapsed": true,
    "tags": []
   },
   "source": [
    "## Plot data"
   ]
  },
  {
   "cell_type": "code",
   "execution_count": 34,
   "id": "6728da61-ab72-4fc5-8c2b-364ac61bd6fa",
   "metadata": {},
   "outputs": [
    {
     "data": {
      "image/png": "[encoded data removed]",
      "text/plain": [
       "<Figure size 640x480 with 1 Axes>"
      ]
     },
     "metadata": {},
     "output_type": "display_data"
    }
   ],
   "source": [
    "# Drawing and plotting model\n",
    "plot = \"failures\" # Change this to G1, G2, studytime or absences to see other graphs\n",
    "pyplot.scatter(data[plot], data[\"G3\"]) \n",
    "pyplot.xlabel(plot) # name x label\n",
    "pyplot.ylabel(\"Final Grade\") # name y label\n",
    "pyplot.show()"
   ]
  },
  {
   "cell_type": "markdown",
   "id": "d46c9312-0f1d-4092-81b8-a2880aac8a5e",
   "metadata": {
    "jp-MarkdownHeadingCollapsed": true,
    "tags": []
   },
   "source": [
    "## หากต้องการทดสอบระบบอย่างละเอียด\n",
    "ด้วยการพิมพ์แสดงค่า feature ทุกอัน ค่า label ที่ได้จากการทำนาย และ label จริง ๆ ของข้อมูล"
   ]
  },
  {
   "cell_type": "code",
   "execution_count": 21,
   "id": "f2336750-aaef-479b-bdbc-341af8536250",
   "metadata": {},
   "outputs": [
    {
     "name": "stdout",
     "output_type": "stream",
     "text": [
      "Coefficient: [ 0.13282956  0.98965933 -0.2210996  -0.25685925  0.03572156]\n",
      "Intercept: -1.2636807926546183\n"
     ]
    }
   ],
   "source": [
    "# เช็คค่า m และค่า c ที่ระบบสร้างขึ้นมา\n",
    "print('Coefficient:', linear.coef_) # Slope value\n",
    "print('Intercept:', linear.intercept_) # Intercept"
   ]
  },
  {
   "cell_type": "code",
   "execution_count": 22,
   "id": "f9bb6d61-da54-462b-88db-338bdb19ab77",
   "metadata": {},
   "outputs": [
    {
     "name": "stdout",
     "output_type": "stream",
     "text": [
      "[15 15  2  0  4] 15 15.274339678881336\n",
      "[17 18  1  0  0] 18 18.58719015693551\n",
      "[13 12  3  0  1] 12 11.711438273519503\n",
      "[8 7 1 0 0] 6 6.505471434871886\n",
      "[18 19  1  0 10] 19 20.066894662350677\n",
      "[9 9 2 1 0] 0 8.139660812700892\n",
      "[17 15  1  0  4] 16 15.761098400187134\n",
      "[ 8 10  2  0  4] 9 9.396236081334589\n",
      "[12 10  2  0  2] 11 9.8561112045837\n",
      "[16 16  2  0  2] 16 16.325385451769083\n",
      "[12 11  1  0 16] 11 11.566971991477708\n",
      "[7 7 2 3 5] 7 5.5595723236678625\n",
      "[ 9 10  2  0  2] 9 9.457622520580937\n",
      "[10 13  2  1  6] 13 12.445457074864438\n",
      "[ 9  7  2  1 20] 8 6.874773366297141\n",
      "[ 9  9  2  0 56] 8 10.396927483312938\n",
      "[10  9  3  0  2] 9 8.379693149636507\n",
      "[15 15  2  0  2] 16 15.202896556793434\n",
      "[7 9 2 0 0] 8 8.130860942183132\n",
      "[10 10  2  0  2] 11 9.590452081915192\n",
      "[10 10  2  1  0] 0 9.262149707676542\n",
      "[6 5 1 1 0] 0 4.003634392769842\n",
      "[10  9  2  0  4] 9 8.672235870361702\n",
      "[12 12  2  0 13] 13 12.22836704334996\n",
      "[10 11  4  0 10] 11 10.423684706633624\n",
      "[15 12  3  0  0] 14 11.941375835144058\n",
      "[13 13  2  0 14] 14 13.38657749936956\n",
      "[14 14  1  0  2] 14 14.301507260455073\n",
      "[11  0  3  0  0] 0 -0.46585441388969295\n",
      "[10 10  2  0  4] 10 9.661895204003097\n",
      "[13 11  3  0  8] 11 10.971829867185772\n",
      "[ 7  7  1  0 14] 5 6.872743728152956\n",
      "[12 12  2  0  6] 12 11.978316116042297\n",
      "[13 13  2  0  2] 11 12.957918766842138\n",
      "[11  9  2  0 12] 9 9.090837920047568\n",
      "[ 9  9  2  2 15] 9 8.418624976209422\n",
      "[ 8  6  2  0 18] 7 5.937700601384335\n",
      "[9 9 2 0 6] 10 8.61084943111535\n",
      "[16 17  3  0  0] 17 17.022502064685284\n",
      "[11 10  2  1 12] 10 9.823638001538216\n"
     ]
    }
   ],
   "source": [
    "# เช็คระบบอย่างละเอียด\n",
    "predictions = linear.predict(X_test) # list of all predictions\n",
    "\n",
    "for x in range(len(predictions)):\n",
    "        print(X_test[x], y_test[x], predictions[x]) # features, actural label, predicted label"
   ]
  },
  {
   "cell_type": "code",
   "execution_count": null,
   "id": "9d8a5a17-a577-48f7-ab4b-abe1be0ac588",
   "metadata": {},
   "outputs": [],
   "source": []
  }
 ],
 "metadata": {
  "kernelspec": {
   "display_name": "Python 3 (ipykernel)",
   "language": "python",
   "name": "python3"
  },
  "language_info": {
   "codemirror_mode": {
    "name": "ipython",
    "version": 3
   },
   "file_extension": ".py",
   "mimetype": "text/x-python",
   "name": "python",
   "nbconvert_exporter": "python",
   "pygments_lexer": "ipython3",
   "version": "3.9.13"
  }
 },
 "nbformat": 4,
 "nbformat_minor": 5
}
